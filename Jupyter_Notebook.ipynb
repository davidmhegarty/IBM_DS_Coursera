{
 "cells": [
  {
   "cell_type": "markdown",
   "metadata": {},
   "source": [
    "<center>\n",
    "    <img src=\"https://cf-courses-data.s3.us.cloud-object-storage.appdomain.cloud/IBMDeveloperSkillsNetwork-DS0105EN-SkillsNetwork/labs/Module2/images/SN_web_lightmode.png\" width=\"300\" alt=\"cognitiveclass.ai logo\">\n",
    "</center>\n"
   ]
  },
  {
   "cell_type": "markdown",
   "metadata": {},
   "source": [
    "#### Add your code below following the instructions given in the course\n"
   ]
  },
  {
   "cell_type": "markdown",
   "metadata": {},
   "source": [
    "# My Jupyter Notebook on IBM Watson Studio"
   ]
  },
  {
   "cell_type": "markdown",
   "metadata": {},
   "source": [
    "**David Hegarty**\n",
    "\n",
    "I am currently working as a Finance Operations Systems Specialist"
   ]
  },
  {
   "cell_type": "markdown",
   "metadata": {},
   "source": [
    "*I am interested in data science because I want to be better equipped to analyze and improve business processes. I want to find the simplest user experience that also generates the best and most powerful reporting data in the back-end that can accurately highlight and describe where processes may have issues that can be targeted to improve the processes.*"
   ]
  },
  {
   "cell_type": "markdown",
   "metadata": {},
   "source": [
    "### The code below calculates the fibonacci number of a user given number"
   ]
  },
  {
   "cell_type": "code",
   "execution_count": 44,
   "metadata": {},
   "outputs": [
    {
     "name": "stdin",
     "output_type": "stream",
     "text": [
      " 15\n"
     ]
    },
    {
     "name": "stdout",
     "output_type": "stream",
     "text": [
      "Fibonacci number 15 =  610\n"
     ]
    }
   ],
   "source": [
    "def nth_fibonacci(Number):\n",
    "    \"\"\"\n",
    "    Return the nth fibonacci number based on user input.\n",
    "    \"\"\"\n",
    "    if n < 2:\n",
    "        return n\n",
    "    fs = [0, 1]\n",
    "    for i in range(1, n):\n",
    "        fs.append(fs[i] + fs[i - 1])\n",
    "    return fs[n]\n",
    "\n",
    "\n",
    "# get user input\n",
    "n = input()\n",
    "\n",
    "# declaring a flag 'validInt' for check\n",
    "valid_int = True\n",
    "try:\n",
    "    # try to convert the input to an integer\n",
    "    n = int(n)\n",
    "except ValueError:\n",
    "    # raise a value error and set valid_int to false if the input cannot be converted\n",
    "    valid_int = False\n",
    "\n",
    "# check if the input was converted and print the relevant output\n",
    "if valid_int:\n",
    "    # check if the integer provided is negative and print an appropriate result\n",
    "    if int(n) < 0:\n",
    "        print(\"This code is not designed to calculate the negative values of the fibonacci series\")\n",
    "    else:\n",
    "        print(\"Fibonacci number\", n, \"= \", nth_fibonacci(n))\n",
    "else:\n",
    "    print(\"Sorry I cannot calulate the fibonacci number from the given input: \"\n",
    "          , n, \"\\nPlease enter an integer to be calculated next time.\")"
   ]
  },
  {
   "cell_type": "markdown",
   "metadata": {},
   "source": [
    "---\n",
    "## Code Cell Usage\n",
    "\n",
    "- When you run the codecell above, it will prompt you for an input\n",
    "- While this input can technically be anything, it will only calculate the fibonacci number or an integer input.\n",
    "- Eg. '1', not 'one'\n",
    "- The try catch block below shows the use of error handling to validate user input:\n",
    "\n",
    "```python\n",
    "# declaring a flag 'validInt' for check\n",
    "valid_int = True\n",
    "try:\n",
    "    # try to convert the input to an integer\n",
    "    n = int(n)\n",
    "except ValueError:\n",
    "    # raise a value error and set valid_int to false if the input cannot be converted\n",
    "    valid_int = False\n",
    "```\n",
    "\n",
    "- The table below details the first 20 fibonacci numbers for testing validation purposes:\n",
    "\n",
    "| Input Integer | Expected fibonacci number in output |\n",
    "| ----------- | ----------- |\n",
    "| 1 | 0 |\n",
    "| 2 | 1 |\n",
    "| 3 | 1 |\n",
    "| 4 | 2 |\n",
    "| 5 | 3 |\n",
    "| 6 | 5 |\n",
    "| 7 | 8 |\n",
    "| 8 | 13 |\n",
    "| 9 | 21 |\n",
    "| 10 | 34 |\n",
    "| 11 | 55 |\n",
    "| 12 | 89 |\n",
    "| 13 | 144 |\n",
    "| 14 | 233 |\n",
    "| 15 | 377 |\n",
    "| 16 | 610 |\n",
    "| 17 | 987 |\n",
    "| 18 | 1597 |\n",
    "| 19 | 2584 |\n",
    "| 20 | 4181 |"
   ]
  }
 ],
 "metadata": {
  "kernelspec": {
   "display_name": "Python",
   "language": "python",
   "name": "conda-env-python-py"
  },
  "language_info": {
   "codemirror_mode": {
    "name": "ipython",
    "version": 3
   },
   "file_extension": ".py",
   "mimetype": "text/x-python",
   "name": "python",
   "nbconvert_exporter": "python",
   "pygments_lexer": "ipython3",
   "version": "3.7.12"
  }
 },
 "nbformat": 4,
 "nbformat_minor": 4
}
